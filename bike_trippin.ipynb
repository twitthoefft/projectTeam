{
 "cells": [
  {
   "cell_type": "code",
   "execution_count": null,
   "metadata": {},
   "outputs": [],
   "source": [
    "%matplotlib notebook"
   ]
  },
  {
   "cell_type": "code",
   "execution_count": null,
   "metadata": {},
   "outputs": [],
   "source": [
    "# Import Dependencies\n",
    "import matplotlib.pyplot as plt\n",
    "import pandas as pd\n",
    "import numpy as np"
   ]
  },
  {
   "cell_type": "code",
   "execution_count": null,
   "metadata": {},
   "outputs": [],
   "source": [
    "# Import our data into pandas from CSV\n",
    "string_thing = '../Resources/trip.csv'\n",
    "bike_trips_df = pd.read_csv(string_thing, low_memory=False)\n",
    "\n",
    "bike_trips_df.head()\n",
    "bike_trips_df.shape"
   ]
  },
  {
   "cell_type": "code",
   "execution_count": null,
   "metadata": {},
   "outputs": [],
   "source": [
    "# Split up our data into groups based upon 'gender'\n",
    "gender_groups = bike_trips_df.groupby('gender')\n",
    "\n",
    "# Find out how many of each gender took bike trips\n",
    "gender_trips = gender_groups['tripduration'].count()\n",
    "\n",
    "# Drop the 'stoptime' row that is contained within our group\n",
    "gender_trips = gender_trips.drop(gender_trips.index[3])\n",
    "\n",
    "# Chart our data, give it a title, and label the axes\n",
    "gender_chart = gender_trips.plot(kind=\"bar\", title=\"Bike Trips by Gender\")\n",
    "gender_chart.set_xlabel(\"Gender\")\n",
    "gender_chart.set_ylabel(\"Number of Trips Taken\")\n",
    "\n",
    "plt.show()\n",
    "plt.tight_layout()"
   ]
  },
  {
   "cell_type": "code",
   "execution_count": null,
   "metadata": {},
   "outputs": [],
   "source": [
    "# Split up our data into groups based upon 'bikeid' and 'gender'\n",
    "bike_groups = bike_trips_df.groupby(['bikeid','gender'])\n",
    "\n",
    "# Create a new variable that holds the sum of our groups\n",
    "sum_it_up = bike_groups.sum()\n",
    "sum_it_up.head(12)"
   ]
  },
  {
   "cell_type": "code",
   "execution_count": null,
   "metadata": {},
   "outputs": [],
   "source": [
    "# Make a variable called bike_id and store a 'bikeid' in it\n",
    "bike_id = \"SEA00001\"\n",
    "\n",
    "# Collect the trips of the 'bikeid' above\n",
    "just_one_bike = sum_it_up.loc[bike_id]\n",
    "\n",
    "# Place the gender keys for that single bike into a list\n",
    "# gender_list = just_one_bike.keys()\n",
    "# gender_list\n",
    "\n",
    "# Create a pie chart based upon the trip duration of that single bike\n",
    "bike_pie = just_one_bike.plot(kind=\"pie\", y='tripduration', title=(\"Trips of \" + bike_id))\n",
    "bike_pie.set_ylabel(\"Trip Duration\")\n",
    "\n",
    "\n",
    "plt.tight_layout()\n",
    "plt.axis(\"equal\")\n",
    "\n",
    "plt.show()"
   ]
  },
  {
   "cell_type": "code",
   "execution_count": null,
   "metadata": {},
   "outputs": [],
   "source": []
  }
 ],
 "metadata": {
  "kernelspec": {
   "display_name": "Python 3",
   "language": "python",
   "name": "python3"
  },
  "language_info": {
   "codemirror_mode": {
    "name": "ipython",
    "version": 3
   },
   "file_extension": ".py",
   "mimetype": "text/x-python",
   "name": "python",
   "nbconvert_exporter": "python",
   "pygments_lexer": "ipython3",
   "version": "3.7.7"
  }
 },
 "nbformat": 4,
 "nbformat_minor": 4
}